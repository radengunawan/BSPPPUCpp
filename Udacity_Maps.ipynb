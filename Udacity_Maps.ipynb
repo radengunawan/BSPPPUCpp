{
  "nbformat": 4,
  "nbformat_minor": 0,
  "metadata": {
    "colab": {
      "name": "Udacity_Maps.ipynb",
      "provenance": [],
      "include_colab_link": true
    },
    "kernelspec": {
      "name": "python3",
      "display_name": "Python 3"
    },
    "accelerator": "GPU"
  },
  "cells": [
    {
      "cell_type": "markdown",
      "metadata": {
        "id": "view-in-github",
        "colab_type": "text"
      },
      "source": [
        "<a href=\"https://colab.research.google.com/github/radengunawan/BSPPPUCpp/blob/master/Udacity_Maps.ipynb\" target=\"_parent\"><img src=\"https://colab.research.google.com/assets/colab-badge.svg\" alt=\"Open In Colab\"/></a>"
      ]
    },
    {
      "cell_type": "code",
      "metadata": {
        "id": "TMOKlgY85cfJ",
        "colab_type": "code",
        "colab": {}
      },
      "source": [
        "!wget -q http://ftp.mirror.tw/pub/apache/spark/spark-2.4.4/spark-2.4.4-bin-hadoop2.7.tgz"
      ],
      "execution_count": 0,
      "outputs": []
    },
    {
      "cell_type": "code",
      "metadata": {
        "id": "ox-jL_eO5upf",
        "colab_type": "code",
        "colab": {
          "base_uri": "https://localhost:8080/",
          "height": 34
        },
        "outputId": "803e366c-2b93-4ad5-9d7b-c7adcf90c9e9"
      },
      "source": [
        "!ls"
      ],
      "execution_count": 5,
      "outputs": [
        {
          "output_type": "stream",
          "text": [
            "sample_data  spark-2.4.4-bin-hadoop2.7.tgz\n"
          ],
          "name": "stdout"
        }
      ]
    },
    {
      "cell_type": "code",
      "metadata": {
        "id": "qw4Zbug05vcm",
        "colab_type": "code",
        "colab": {}
      },
      "source": [
        "!tar xf spark-2.4.4-bin-hadoop2.7.tgz"
      ],
      "execution_count": 0,
      "outputs": []
    },
    {
      "cell_type": "code",
      "metadata": {
        "id": "lD-w8Liw5zJb",
        "colab_type": "code",
        "colab": {}
      },
      "source": [
        "!pip install -q findspark"
      ],
      "execution_count": 0,
      "outputs": []
    },
    {
      "cell_type": "code",
      "metadata": {
        "id": "r7xmMYeH6DP7",
        "colab_type": "code",
        "colab": {}
      },
      "source": [
        "import os\n",
        "os.environ[\"JAVA_HOME\"] = \"/usr/lib/jvm/java-8-openjdk-amd64\"\n",
        "os.environ[\"SPARK_HOME\"] = \"/content/spark-2.4.4-bin-hadoop2.7\""
      ],
      "execution_count": 0,
      "outputs": []
    },
    {
      "cell_type": "code",
      "metadata": {
        "id": "oQ-yjdRq6mt6",
        "colab_type": "code",
        "colab": {}
      },
      "source": [
        "import findspark\n",
        "findspark.init()"
      ],
      "execution_count": 0,
      "outputs": []
    },
    {
      "cell_type": "markdown",
      "metadata": {
        "id": "0aKmdc3W-WG0",
        "colab_type": "text"
      },
      "source": [
        "**Maps**.\n",
        "\n",
        "In Spark, maps take data as input, then convert the data with whatever function you put in the map.\n",
        "They are like directions for the data telling how each input should get to the output.\n",
        "\n",
        "The first code cell create a SparkContext object. With this object, we can input a dataset and parallelize the data accross a cluster (However since we are now using Spark in local mode on single machine, technically the dataset is **NOT** distributed yet.\n",
        "\n",
        "Run the code below to instantiate a SparkContext object and then read in the log_of_song list into Spark."
      ]
    },
    {
      "cell_type": "code",
      "metadata": {
        "id": "L07H_4VL6seZ",
        "colab_type": "code",
        "colab": {}
      },
      "source": [
        "### \n",
        "# You might have noticed this code in the screencast.\n",
        "#\n",
        "# import findspark\n",
        "# findspark.init('spark-2.3.2-bin-hadoop2.7')\n",
        "#\n",
        "# The findspark Python module makes it easier to install\n",
        "# Spark in local mode on your computer. This is convenient\n",
        "# for practicing Spark syntax locally. \n",
        "# However, the workspaces already have Spark installed and you do not\n",
        "# need to use the findspark module\n",
        "#\n",
        "###\n",
        "import pyspark\n",
        "sc = pyspark.SparkContext(appName = \"maps_and_lazy_evaluation_example\")"
      ],
      "execution_count": 0,
      "outputs": []
    },
    {
      "cell_type": "code",
      "metadata": {
        "id": "5gi-v5iQ65rQ",
        "colab_type": "code",
        "colab": {}
      },
      "source": [
        "log_of_songs = [\n",
        "                \"Despacito\",\n",
        "                \"Nice for what\",\n",
        "                \"No tears left to cry\",\n",
        "                \"Despacito\",\n",
        "                \"Havana\",\n",
        "                \"In my feelings\",\n",
        "                \"Nice for what\",\n",
        "                \"despacito\",\n",
        "                \"All the stars\"\n",
        "]"
      ],
      "execution_count": 0,
      "outputs": []
    },
    {
      "cell_type": "code",
      "metadata": {
        "id": "M0f4Ts2j7XRh",
        "colab_type": "code",
        "colab": {}
      },
      "source": [
        "# parallelize the log_of_songs to use with Spark:\n",
        "distributed_song_log = sc.parallelize(log_of_songs)"
      ],
      "execution_count": 0,
      "outputs": []
    },
    {
      "cell_type": "markdown",
      "metadata": {
        "id": "O5-KGEjiAVUy",
        "colab_type": "text"
      },
      "source": [
        "This next code cell defines a function that converts a song title to lowercase. Then there is an example converting the word \"Havana\" to \"havana\"."
      ]
    },
    {
      "cell_type": "code",
      "metadata": {
        "id": "0z1QYicW7kmT",
        "colab_type": "code",
        "colab": {}
      },
      "source": [
        "def convert_song_to_lwrcase(song):\n",
        "  return song.lower()"
      ],
      "execution_count": 0,
      "outputs": []
    },
    {
      "cell_type": "code",
      "metadata": {
        "id": "vhewpeS4AXZV",
        "colab_type": "code",
        "colab": {
          "base_uri": "https://localhost:8080/",
          "height": 34
        },
        "outputId": "238a9e05-ff24-4fe8-e56a-067f1dad1022"
      },
      "source": [
        "convert_song_to_lwrcase(\"Havana\")"
      ],
      "execution_count": 34,
      "outputs": [
        {
          "output_type": "execute_result",
          "data": {
            "text/plain": [
              "'havana'"
            ]
          },
          "metadata": {
            "tags": []
          },
          "execution_count": 34
        }
      ]
    },
    {
      "cell_type": "markdown",
      "metadata": {
        "id": "82j9ec69AwTQ",
        "colab_type": "text"
      },
      "source": [
        "The following code cells demonstrate ***how to apply this function using a map step***. \n",
        "\n",
        "The map step will go through each song in the list and apply the convert_song_to_lowercase() function."
      ]
    },
    {
      "cell_type": "code",
      "metadata": {
        "id": "s3V5hDEK8IA-",
        "colab_type": "code",
        "colab": {
          "base_uri": "https://localhost:8080/",
          "height": 34
        },
        "outputId": "e3dc5558-2287-4483-9de3-410b8a3b0369"
      },
      "source": [
        "distributed_song_log.map(convert_song_to_lwrcase)"
      ],
      "execution_count": 35,
      "outputs": [
        {
          "output_type": "execute_result",
          "data": {
            "text/plain": [
              "PythonRDD[6] at RDD at PythonRDD.scala:53"
            ]
          },
          "metadata": {
            "tags": []
          },
          "execution_count": 35
        }
      ]
    },
    {
      "cell_type": "markdown",
      "metadata": {
        "id": "SV-XqVwIBKNX",
        "colab_type": "text"
      },
      "source": [
        "It's noteciable that this code ran quickly.\n",
        "This is because of lazy evaluation.\n",
        "Why? Because actually Spark does not execute the map step unless it needs to.\n",
        "\n",
        "\"RDD\" in the ourput refers to resilient (strong) distributed dataset.\n",
        "\n",
        "RDDs are exactly what they are: fault-tolerant datasets distributed accross a cluster. This is how Spark stores data.\n",
        "\n",
        "To get Spark to actually run the map step, we need to force it to do an action. One available action is collect method. \n",
        "\n",
        "IMPORTANT: \n",
        "The **collect()** methods takes the results from all of the clusters and collects them into a single list on the master node."
      ]
    },
    {
      "cell_type": "code",
      "metadata": {
        "id": "B078IiR-83RQ",
        "colab_type": "code",
        "colab": {
          "base_uri": "https://localhost:8080/",
          "height": 170
        },
        "outputId": "1338af86-3a11-4c42-ce37-1e02047a76c8"
      },
      "source": [
        "distributed_song_log.collect()"
      ],
      "execution_count": 23,
      "outputs": [
        {
          "output_type": "execute_result",
          "data": {
            "text/plain": [
              "['Despacito',\n",
              " 'Nice for what',\n",
              " 'No tears left to cry',\n",
              " 'Despacito',\n",
              " 'Havana',\n",
              " 'In my feelings',\n",
              " 'Nice for what',\n",
              " 'despacito',\n",
              " 'All the stars']"
            ]
          },
          "metadata": {
            "tags": []
          },
          "execution_count": 23
        }
      ]
    },
    {
      "cell_type": "code",
      "metadata": {
        "id": "rUTzr9CH85GZ",
        "colab_type": "code",
        "colab": {
          "base_uri": "https://localhost:8080/",
          "height": 170
        },
        "outputId": "62719781-d855-40d4-cacb-a3be2dd2ce20"
      },
      "source": [
        "distributed_song_log.map(convert_song_to_lwrcase).collect()"
      ],
      "execution_count": 24,
      "outputs": [
        {
          "output_type": "execute_result",
          "data": {
            "text/plain": [
              "['despacito',\n",
              " 'nice for what',\n",
              " 'no tears left to cry',\n",
              " 'despacito',\n",
              " 'havana',\n",
              " 'in my feelings',\n",
              " 'nice for what',\n",
              " 'despacito',\n",
              " 'all the stars']"
            ]
          },
          "metadata": {
            "tags": []
          },
          "execution_count": 24
        }
      ]
    },
    {
      "cell_type": "markdown",
      "metadata": {
        "id": "-rRyawW1CdSw",
        "colab_type": "text"
      },
      "source": [
        "Note that Spark is not changing the original dataset. \n",
        "Spark is merely making a copy.\n",
        "I can see this by running collect on the original dataset"
      ]
    },
    {
      "cell_type": "code",
      "metadata": {
        "id": "Z2RXjSjBCurs",
        "colab_type": "code",
        "colab": {
          "base_uri": "https://localhost:8080/",
          "height": 170
        },
        "outputId": "fe24e844-fb43-4bf2-9676-065402315a50"
      },
      "source": [
        "distributed_song_log.collect()"
      ],
      "execution_count": 36,
      "outputs": [
        {
          "output_type": "execute_result",
          "data": {
            "text/plain": [
              "['Despacito',\n",
              " 'Nice for what',\n",
              " 'No tears left to cry',\n",
              " 'Despacito',\n",
              " 'Havana',\n",
              " 'In my feelings',\n",
              " 'Nice for what',\n",
              " 'despacito',\n",
              " 'All the stars']"
            ]
          },
          "metadata": {
            "tags": []
          },
          "execution_count": 36
        }
      ]
    },
    {
      "cell_type": "markdown",
      "metadata": {
        "id": "WG6BnpYRCzSf",
        "colab_type": "text"
      },
      "source": [
        "You don't always have to write a custom function for the map step. You can also use anonymous (lambda) functions as well as built-in Python functions like string.lower().\n",
        "Anonymous functions are actually a Pythin feature for writing functional style programming."
      ]
    },
    {
      "cell_type": "code",
      "metadata": {
        "id": "P0i4-7JD9N-3",
        "colab_type": "code",
        "colab": {
          "base_uri": "https://localhost:8080/",
          "height": 170
        },
        "outputId": "e5631909-9014-49f8-cf6f-857f424cb4d1"
      },
      "source": [
        "distributed_song_log.map(lambda song: song.lower()).collect()"
      ],
      "execution_count": 25,
      "outputs": [
        {
          "output_type": "execute_result",
          "data": {
            "text/plain": [
              "['despacito',\n",
              " 'nice for what',\n",
              " 'no tears left to cry',\n",
              " 'despacito',\n",
              " 'havana',\n",
              " 'in my feelings',\n",
              " 'nice for what',\n",
              " 'despacito',\n",
              " 'all the stars']"
            ]
          },
          "metadata": {
            "tags": []
          },
          "execution_count": 25
        }
      ]
    },
    {
      "cell_type": "code",
      "metadata": {
        "id": "h4UhSJNP91kR",
        "colab_type": "code",
        "colab": {
          "base_uri": "https://localhost:8080/",
          "height": 170
        },
        "outputId": "8750b8ee-fa17-4fe6-b8c5-382e883d6004"
      },
      "source": [
        "distributed_song_log.map(lambda x: x.lower()).collect()"
      ],
      "execution_count": 26,
      "outputs": [
        {
          "output_type": "execute_result",
          "data": {
            "text/plain": [
              "['despacito',\n",
              " 'nice for what',\n",
              " 'no tears left to cry',\n",
              " 'despacito',\n",
              " 'havana',\n",
              " 'in my feelings',\n",
              " 'nice for what',\n",
              " 'despacito',\n",
              " 'all the stars']"
            ]
          },
          "metadata": {
            "tags": []
          },
          "execution_count": 26
        }
      ]
    },
    {
      "cell_type": "code",
      "metadata": {
        "id": "heI-hQSf-GuT",
        "colab_type": "code",
        "colab": {}
      },
      "source": [
        ""
      ],
      "execution_count": 0,
      "outputs": []
    }
  ]
}